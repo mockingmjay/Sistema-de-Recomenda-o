{
 "cells": [
  {
   "cell_type": "code",
   "execution_count": 2,
   "id": "9f27c1ea",
   "metadata": {},
   "outputs": [
    {
     "ename": "SyntaxError",
     "evalue": "invalid syntax (3476877927.py, line 2)",
     "output_type": "error",
     "traceback": [
      "\u001b[0;36m  Cell \u001b[0;32mIn[2], line 2\u001b[0;36m\u001b[0m\n\u001b[0;31m    O crescimento dos sistemas de comércio eletrônico trouxe desafios para os consumidores diante da grande variedade de produtos e serviços disponíveis. Os Sistemas de Recomendação (SR) auxiliam os usuários a encontrar itens relevantes, sendo foco de diversas pesquisas, especialmente na melhoria da acurácia dos algoritmos. Este trabalho visa implementar e comparar diferentes algoritmos de filtragem colaborativa, abordando também questões de hiperparametrização e avaliação de desempenho.\u001b[0m\n\u001b[0m      ^\u001b[0m\n\u001b[0;31mSyntaxError\u001b[0m\u001b[0;31m:\u001b[0m invalid syntax\n"
     ]
    }
   ],
   "source": [
    "# Introdução\n",
    "O crescimento dos sistemas de comércio eletrônico trouxe desafios para os consumidores diante da grande variedade de produtos e serviços disponíveis. Os Sistemas de Recomendação (SR) auxiliam os usuários a encontrar itens relevantes, sendo foco de diversas pesquisas, especialmente na melhoria da acurácia dos algoritmos. Este trabalho visa implementar e comparar diferentes algoritmos de filtragem colaborativa, abordando também questões de hiperparametrização e avaliação de desempenho."
   ]
  },
  {
   "cell_type": "markdown",
   "id": "506ca8a5",
   "metadata": {},
   "source": [
    "# Experimentos\n",
    "\n",
    "## Bases de Dados\n",
    "- Utilizaremos a base MovieLens 100k para treinamento e avaliação dos modelos.\n",
    "\n",
    "## Metodologia\n",
    "- Implementação de algoritmos de filtragem colaborativa baseados em memória (user-based) e baseados em modelo (Regularized SVD).\n",
    "- Ajuste de hiperparâmetros para otimização do desempenho.\n",
    "- Avaliação utilizando métricas apropriadas (ex: RMSE, MAE).\n",
    "\n",
    "## Algoritmos Implementados\n",
    "- Filtragem colaborativa baseada em memória (User-based).\n",
    "- Filtragem colaborativa baseada em modelo (SVD regularizado)."
   ]
  },
  {
   "cell_type": "markdown",
   "id": "46ce2651",
   "metadata": {},
   "source": [
    "# Conclusão\n",
    "\n",
    "Serão apresentadas as principais conclusões, análise dos resultados e sugestões para trabalhos futuros."
   ]
  },
  {
   "cell_type": "code",
   "execution_count": 5,
   "id": "0c0e9257",
   "metadata": {},
   "outputs": [],
   "source": [
    "# Instalação e importação das bibliotecas necessárias\n",
    "import pandas as pd\n",
    "import numpy as np\n",
    "from sklearn.model_selection import train_test_split\n",
    "from sklearn.metrics import mean_squared_error, mean_absolute_error\n",
    "# Outras bibliotecas serão importadas conforme necessário"
   ]
  },
  {
   "cell_type": "code",
   "execution_count": 6,
   "id": "231b74dd",
   "metadata": {},
   "outputs": [
    {
     "data": {
      "text/html": [
       "<div>\n",
       "<style scoped>\n",
       "    .dataframe tbody tr th:only-of-type {\n",
       "        vertical-align: middle;\n",
       "    }\n",
       "\n",
       "    .dataframe tbody tr th {\n",
       "        vertical-align: top;\n",
       "    }\n",
       "\n",
       "    .dataframe thead th {\n",
       "        text-align: right;\n",
       "    }\n",
       "</style>\n",
       "<table border=\"1\" class=\"dataframe\">\n",
       "  <thead>\n",
       "    <tr style=\"text-align: right;\">\n",
       "      <th></th>\n",
       "      <th>user_id</th>\n",
       "      <th>item_id</th>\n",
       "      <th>rating</th>\n",
       "      <th>timestamp</th>\n",
       "    </tr>\n",
       "  </thead>\n",
       "  <tbody>\n",
       "    <tr>\n",
       "      <th>0</th>\n",
       "      <td>196</td>\n",
       "      <td>242</td>\n",
       "      <td>3</td>\n",
       "      <td>881250949</td>\n",
       "    </tr>\n",
       "    <tr>\n",
       "      <th>1</th>\n",
       "      <td>186</td>\n",
       "      <td>302</td>\n",
       "      <td>3</td>\n",
       "      <td>891717742</td>\n",
       "    </tr>\n",
       "    <tr>\n",
       "      <th>2</th>\n",
       "      <td>22</td>\n",
       "      <td>377</td>\n",
       "      <td>1</td>\n",
       "      <td>878887116</td>\n",
       "    </tr>\n",
       "    <tr>\n",
       "      <th>3</th>\n",
       "      <td>244</td>\n",
       "      <td>51</td>\n",
       "      <td>2</td>\n",
       "      <td>880606923</td>\n",
       "    </tr>\n",
       "    <tr>\n",
       "      <th>4</th>\n",
       "      <td>166</td>\n",
       "      <td>346</td>\n",
       "      <td>1</td>\n",
       "      <td>886397596</td>\n",
       "    </tr>\n",
       "  </tbody>\n",
       "</table>\n",
       "</div>"
      ],
      "text/plain": [
       "   user_id  item_id  rating  timestamp\n",
       "0      196      242       3  881250949\n",
       "1      186      302       3  891717742\n",
       "2       22      377       1  878887116\n",
       "3      244       51       2  880606923\n",
       "4      166      346       1  886397596"
      ]
     },
     "execution_count": 6,
     "metadata": {},
     "output_type": "execute_result"
    }
   ],
   "source": [
    "# Download e carregamento da base MovieLens 100k\n",
    "import zipfile\n",
    "import os\n",
    "import urllib.request\n",
    "\n",
    "url = 'http://files.grouplens.org/datasets/movielens/ml-100k.zip'\n",
    "filename = 'ml-100k.zip'\n",
    "\n",
    "if not os.path.exists('ml-100k'):\n",
    "    urllib.request.urlretrieve(url, filename)\n",
    "    with zipfile.ZipFile(filename, 'r') as zip_ref:\n",
    "        zip_ref.extractall('.')\n",
    "\n",
    "ratings = pd.read_csv('ml-100k/u.data', sep='\\t', names=['user_id', 'item_id', 'rating', 'timestamp'])\n",
    "ratings.head()"
   ]
  },
  {
   "cell_type": "code",
   "execution_count": 7,
   "id": "e19ead1f",
   "metadata": {},
   "outputs": [
    {
     "name": "stdout",
     "output_type": "stream",
     "text": [
      "Usuários mais similares ao usuário 1: [915 863 267  91 434]\n"
     ]
    }
   ],
   "source": [
    "# Filtragem colaborativa baseada em memória (User-based)\n",
    "from sklearn.neighbors import NearestNeighbors\n",
    "\n",
    "# Criar matriz usuário-item\n",
    "user_item_matrix = ratings.pivot_table(index='user_id', columns='item_id', values='rating').fillna(0)\n",
    "\n",
    "# Treinar modelo KNN\n",
    "knn = NearestNeighbors(metric='cosine', algorithm='brute')\n",
    "knn.fit(user_item_matrix)\n",
    "\n",
    "# Exemplo: encontrar os 5 usuários mais similares ao usuário 1\n",
    "user_index = 0  # índice do usuário 1\n",
    "n_neighbors = 5\n",
    "neighbors = knn.kneighbors([user_item_matrix.iloc[user_index]], n_neighbors=n_neighbors+1)\n",
    "print(f'Usuários mais similares ao usuário 1: {neighbors[1][0][1:]}')"
   ]
  },
  {
   "cell_type": "code",
   "execution_count": 8,
   "id": "7b9b3b3b",
   "metadata": {},
   "outputs": [
    {
     "ename": "ModuleNotFoundError",
     "evalue": "No module named 'surprise'",
     "output_type": "error",
     "traceback": [
      "\u001b[0;31m---------------------------------------------------------------------------\u001b[0m",
      "\u001b[0;31mModuleNotFoundError\u001b[0m                       Traceback (most recent call last)",
      "Cell \u001b[0;32mIn[8], line 2\u001b[0m\n\u001b[1;32m      1\u001b[0m \u001b[38;5;66;03m# Filtragem colaborativa baseada em modelo (SVD regularizado)\u001b[39;00m\n\u001b[0;32m----> 2\u001b[0m \u001b[38;5;28;01mfrom\u001b[39;00m \u001b[38;5;21;01msurprise\u001b[39;00m \u001b[38;5;28;01mimport\u001b[39;00m Dataset, Reader, SVD\n\u001b[1;32m      3\u001b[0m \u001b[38;5;28;01mfrom\u001b[39;00m \u001b[38;5;21;01msurprise\u001b[39;00m\u001b[38;5;21;01m.\u001b[39;00m\u001b[38;5;21;01mmodel_selection\u001b[39;00m \u001b[38;5;28;01mimport\u001b[39;00m cross_validate, GridSearchCV\n\u001b[1;32m      5\u001b[0m \u001b[38;5;66;03m# Preparar dados para Surprise\u001b[39;00m\n",
      "\u001b[0;31mModuleNotFoundError\u001b[0m: No module named 'surprise'"
     ]
    }
   ],
   "source": [
    "# Filtragem colaborativa baseada em modelo (SVD regularizado)\n",
    "from surprise import Dataset, Reader, SVD\n",
    "from surprise.model_selection import cross_validate, GridSearchCV\n",
    "\n",
    "# Preparar dados para Surprise\n",
    "reader = Reader(rating_scale=(1, 5))\n",
    "data = Dataset.load_from_df(ratings[['user_id', 'item_id', 'rating']], reader)\n",
    "\n",
    "# Treinar modelo SVD\n",
    "svd = SVD()\n",
    "results = cross_validate(svd, data, measures=['RMSE', 'MAE'], cv=3, verbose=True)\n",
    "print('Resultados SVD:', results)"
   ]
  },
  {
   "cell_type": "code",
   "execution_count": null,
   "id": "702089a0",
   "metadata": {},
   "outputs": [],
   "source": [
    "# Ajuste de hiperparâmetros do SVD\n",
    "param_grid = {'n_factors': [50, 100], 'reg_all': [0.02, 0.1]}\n",
    "gs = GridSearchCV(SVD, param_grid, measures=['rmse', 'mae'], cv=3)\n",
    "gs.fit(data)\n",
    "\n",
    "print('Melhores hiperparâmetros:', gs.best_params['rmse'])\n",
    "print('Melhor RMSE:', gs.best_score['rmse'])"
   ]
  },
  {
   "cell_type": "code",
   "execution_count": 4,
   "id": "f6081f22",
   "metadata": {},
   "outputs": [
    {
     "ename": "NameError",
     "evalue": "name 'gs' is not defined",
     "output_type": "error",
     "traceback": [
      "\u001b[0;31m---------------------------------------------------------------------------\u001b[0m",
      "\u001b[0;31mNameError\u001b[0m                                 Traceback (most recent call last)",
      "Cell \u001b[0;32mIn[4], line 5\u001b[0m\n\u001b[1;32m      2\u001b[0m \u001b[38;5;28;01mimport\u001b[39;00m \u001b[38;5;21;01mmatplotlib\u001b[39;00m\u001b[38;5;21;01m.\u001b[39;00m\u001b[38;5;21;01mpyplot\u001b[39;00m \u001b[38;5;28;01mas\u001b[39;00m \u001b[38;5;21;01mplt\u001b[39;00m\n\u001b[1;32m      4\u001b[0m \u001b[38;5;66;03m# Exemplo de comparação de RMSE e MAE dos modelos\u001b[39;00m\n\u001b[0;32m----> 5\u001b[0m svd_rmse \u001b[38;5;241m=\u001b[39m gs\u001b[38;5;241m.\u001b[39mbest_score[\u001b[38;5;124m'\u001b[39m\u001b[38;5;124mrmse\u001b[39m\u001b[38;5;124m'\u001b[39m]\n\u001b[1;32m      6\u001b[0m svd_mae \u001b[38;5;241m=\u001b[39m gs\u001b[38;5;241m.\u001b[39mbest_score[\u001b[38;5;124m'\u001b[39m\u001b[38;5;124mmae\u001b[39m\u001b[38;5;124m'\u001b[39m]\n\u001b[1;32m      8\u001b[0m \u001b[38;5;66;03m# Para o modelo user-based, pode-se calcular RMSE/MAE manualmente após gerar previsões\u001b[39;00m\n\u001b[1;32m      9\u001b[0m \u001b[38;5;66;03m# Aqui, apenas um exemplo ilustrativo\u001b[39;00m\n",
      "\u001b[0;31mNameError\u001b[0m: name 'gs' is not defined"
     ]
    }
   ],
   "source": [
    "# Avaliação dos modelos e visualização dos resultados\n",
    "import matplotlib.pyplot as plt\n",
    "\n",
    "# Exemplo de comparação de RMSE e MAE dos modelos\n",
    "svd_rmse = gs.best_score['rmse']\n",
    "svd_mae = gs.best_score['mae']\n",
    "\n",
    "# Para o modelo user-based, pode-se calcular RMSE/MAE manualmente após gerar previsões\n",
    "# Aqui, apenas um exemplo ilustrativo\n",
    "user_based_rmse = 1.0  # Substitua pelo valor real após avaliação\n",
    "user_based_mae = 0.8   # Substitua pelo valor real após avaliação\n",
    "\n",
    "labels = ['User-based', 'SVD']\n",
    "rmse_scores = [user_based_rmse, svd_rmse]\n",
    "mae_scores = [user_based_mae, svd_mae]\n",
    "\n",
    "x = np.arange(len(labels))\n",
    "width = 0.35\n",
    "\n",
    "fig, ax = plt.subplots()\n",
    "rects1 = ax.bar(x - width/2, rmse_scores, width, label='RMSE')\n",
    "rects2 = ax.bar(x + width/2, mae_scores, width, label='MAE')\n",
    "\n",
    "ax.set_ylabel('Score')\n",
    "ax.set_title('Comparação de desempenho dos modelos')\n",
    "ax.set_xticks(x)\n",
    "ax.set_xticklabels(labels)\n",
    "ax.legend()\n",
    "\n",
    "plt.show()"
   ]
  }
 ],
 "metadata": {
  "kernelspec": {
   "display_name": "base",
   "language": "python",
   "name": "python3"
  },
  "language_info": {
   "codemirror_mode": {
    "name": "ipython",
    "version": 3
   },
   "file_extension": ".py",
   "mimetype": "text/x-python",
   "name": "python",
   "nbconvert_exporter": "python",
   "pygments_lexer": "ipython3",
   "version": "3.12.7"
  }
 },
 "nbformat": 4,
 "nbformat_minor": 5
}
