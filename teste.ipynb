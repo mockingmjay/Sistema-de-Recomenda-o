{
 "cells": [
  {
   "cell_type": "code",
   "execution_count": null,
   "id": "6db96172",
   "metadata": {},
   "outputs": [],
   "source": [
    "!pip install pandas numpy matplotlib seaborn scikit-surprise"
   ]
  },
  {
   "cell_type": "code",
   "execution_count": null,
   "id": "16c8b2d3",
   "metadata": {},
   "outputs": [],
   "source": [
    "# Bibliotecas para manipulação e análise de dados\n",
    "import pandas as pd\n",
    "import numpy as np\n",
    "\n",
    "# Bibliotecas para visualização de dados\n",
    "import matplotlib.pyplot as plt\n",
    "import seaborn as sns\n",
    "\n",
    "# Importando ferramentas da biblioteca Surprise\n",
    "from surprise import Dataset, Reader\n",
    "from surprise.model_selection import train_test_split\n",
    "\n",
    "# Configurações de visualização\n",
    "sns.set_style('whitegrid')\n",
    "%matplotlib inline"
   ]
  },
  {
   "cell_type": "code",
   "execution_count": null,
   "id": "e1c44907",
   "metadata": {},
   "outputs": [],
   "source": [
    "# A biblioteca Surprise fará o download do dataset (se ainda não tiver sido baixado)\n",
    "data = Dataset.load_builtin('ml-100k')\n",
    "\n",
    "# Para explorar os dados com Pandas, vamos convertê-lo para um DataFrame\n",
    "df_ratings = pd.DataFrame(data.raw_ratings, columns=['user_id', 'item_id', 'rating', 'timestamp'])\n",
    "df_ratings.head()"
   ]
  },
  {
   "cell_type": "code",
   "execution_count": null,
   "id": "18e5e6fc",
   "metadata": {},
   "outputs": [],
   "source": [
    "# Contagem de cada nota (1 a 5)\n",
    "plt.figure(figsize=(10, 6))\n",
    "sns.countplot(x='rating', data=df_ratings, palette='viridis')\n",
    "plt.title('Distribuição das Avaliações no MovieLens 100k', fontsize=15)\n",
    "plt.xlabel('Avaliação', fontsize=12)\n",
    "plt.ylabel('Contagem', fontsize=12)\n",
    "plt.show()"
   ]
  },
  {
   "cell_type": "code",
   "execution_count": null,
   "id": "78e91c5e",
   "metadata": {},
   "outputs": [],
   "source": [
    "# Número total de avaliações\n",
    "n_ratings = len(df_ratings)\n",
    "# Número de usuários únicos\n",
    "n_users = df_ratings['user_id'].nunique()\n",
    "# Número de filmes únicos\n",
    "n_items = df_ratings['item_id'].nunique()\n",
    "\n",
    "\n",
    "# Cálculo da esparsidade\n",
    "esparsidade = 1 - (n_ratings / (n_users * n_items))\n",
    "\n",
    "print(f\"A esparsidade da base de dados é de aproximadamente: {esparsidade:.2%}\")"
   ]
  },
  {
   "cell_type": "code",
   "execution_count": null,
   "id": "d7688021",
   "metadata": {},
   "outputs": [],
   "source": [
    "# Os arquivos do MovieLens 100k usam codificação 'latin-1'\n",
    "# Carregando os dados dos filmes\n",
    "df_movies = pd.read_csv(\n",
    "    'http://files.grouplens.org/datasets/movielens/ml-100k/u.item', \n",
    "    sep='|', \n",
    "    encoding='latin-1', \n",
    "    header=None,\n",
    "    names=['item_id', 'title'] + [f'col_{i}' for i in range(22)] # Colunas extras que não usaremos agora\n",
    ")\n",
    "df_movies = df_movies[['item_id', 'title']]\n",
    "\n",
    "# Unindo os dataframes de avaliações e filmes\n",
    "df_merged = pd.merge(df_ratings, df_movies, on='item_id')\n",
    "\n",
    "# Contando as avaliações por filme\n",
    "popular_movies = df_merged['title'].value_counts().head(10)\n",
    "\n",
    "plt.figure(figsize=(12, 8))\n",
    "sns.barplot(x=popular_movies.values, y=popular_movies.index, palette='mako')\n",
    "plt.title('Top 10 Filmes Mais Avaliados', fontsize=15)\n",
    "plt.xlabel('Número de Avaliações', fontsize=12)\n",
    "plt.ylabel('Filme', fontsize=12)\n",
    "plt.show()"
   ]
  }
 ],
 "metadata": {
  "kernelspec": {
   "display_name": "base",
   "language": "python",
   "name": "python3"
  },
  "language_info": {
   "codemirror_mode": {
    "name": "ipython",
    "version": 3
   },
   "file_extension": ".py",
   "mimetype": "text/x-python",
   "name": "python",
   "nbconvert_exporter": "python",
   "pygments_lexer": "ipython3",
   "version": "3.12.7"
  }
 },
 "nbformat": 4,
 "nbformat_minor": 5
}
